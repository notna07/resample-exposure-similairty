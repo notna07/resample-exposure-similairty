{
 "cells": [
  {
   "cell_type": "markdown",
   "id": "ee3f5251",
   "metadata": {},
   "source": [
    "# 3 Synthetic Data Privacy\n",
    "\n",
    "The resample exposure risk index was developed to measure the risk of re-identification of individuals in a dataset. Variables are weigthed in the similarity calculation, by the risk of rerolling the query variable into the target. Frequent variables are more vunerable to re-identification. "
   ]
  },
  {
   "cell_type": "code",
   "execution_count": null,
   "id": "585c92e2",
   "metadata": {},
   "outputs": [],
   "source": [
    "import pandas as pd\n",
    "\n",
    "from pandas import DataFrame\n",
    "from KNN_adapters import KNNAdapter\n",
    "\n",
    "def distance_to_closest_record(queries: DataFrame, targets: DataFrame, adapter: KNNAdapter) -> float:\n",
    "    \"\"\"\n",
    "    For each query, find the closest record in the targets DataFrame using the provided KNNAdapter.\n",
    "    \n",
    "    Arguments:\n",
    "        queries (DataFrame): DataFrame containing query records.\n",
    "        targets (DataFrame): DataFrame containing target records.\n",
    "        adapter (KNNAdapter): An instance of KNNAdapter to compute distances.\n",
    "    Returns:\n",
    "        float: The average distance to the closest record in targets for each query.\n",
    "    \"\"\"\n",
    "    knn_model = adapter()\n",
    "    # Ensure the adapter is fitted to the targets\n",
    "    knn_model.fit_nn(targets)\n",
    "\n",
    "    if queries.equals(targets):\n",
    "        #find the next-nearest neighbor\n",
    "        dists = knn_model.get_neighbors(queries, n_neighbors=2)[0]\n",
    "        dists = dists[:, 1]  # Exclude the first column which is the distance to itself\n",
    "    else:\n",
    "        #find the nearest neighbor\n",
    "        dists = knn_model.get_neighbors(queries, n_neighbors=1)[0]\n",
    "\n",
    "    res_df = pd.DataFrame(dists, columns=['DCR'])\n",
    "    res = res_df.aggregate(\n",
    "        ['mean', 'std', 'min', lambda x: x.quantile(0.25), 'median', lambda x: x.quantile(0.75),'max']\n",
    "    )\n",
    "    res.index = ['mean', 'std', 'min', '25%', 'median', '75%', 'max']\n",
    "\n",
    "    return res.T"
   ]
  },
  {
   "cell_type": "code",
   "execution_count": 15,
   "id": "608fdd40",
   "metadata": {},
   "outputs": [
    {
     "name": "stdout",
     "output_type": "stream",
     "text": [
      "Dataset Name: Adult\n"
     ]
    },
    {
     "data": {
      "text/html": [
       "<div>\n",
       "<style scoped>\n",
       "    .dataframe tbody tr th:only-of-type {\n",
       "        vertical-align: middle;\n",
       "    }\n",
       "\n",
       "    .dataframe tbody tr th {\n",
       "        vertical-align: top;\n",
       "    }\n",
       "\n",
       "    .dataframe thead th {\n",
       "        text-align: right;\n",
       "    }\n",
       "</style>\n",
       "<table border=\"1\" class=\"dataframe\">\n",
       "  <thead>\n",
       "    <tr style=\"text-align: right;\">\n",
       "      <th></th>\n",
       "      <th>age</th>\n",
       "      <th>workclass</th>\n",
       "      <th>fnlwgt</th>\n",
       "      <th>education</th>\n",
       "      <th>education-num</th>\n",
       "      <th>marital-status</th>\n",
       "      <th>occupation</th>\n",
       "      <th>relationship</th>\n",
       "      <th>race</th>\n",
       "      <th>sex</th>\n",
       "      <th>capital-gain</th>\n",
       "      <th>capital-loss</th>\n",
       "      <th>hours-per-week</th>\n",
       "      <th>native-country</th>\n",
       "      <th>class</th>\n",
       "    </tr>\n",
       "  </thead>\n",
       "  <tbody>\n",
       "    <tr>\n",
       "      <th>0</th>\n",
       "      <td>-0.338691</td>\n",
       "      <td>4.0</td>\n",
       "      <td>-0.639643</td>\n",
       "      <td>15.0</td>\n",
       "      <td>-0.030373</td>\n",
       "      <td>2.0</td>\n",
       "      <td>4.0</td>\n",
       "      <td>0.0</td>\n",
       "      <td>4.0</td>\n",
       "      <td>1.0</td>\n",
       "      <td>-0.144804</td>\n",
       "      <td>-0.217127</td>\n",
       "      <td>-0.034087</td>\n",
       "      <td>39.0</td>\n",
       "      <td>0.0</td>\n",
       "    </tr>\n",
       "    <tr>\n",
       "      <th>1</th>\n",
       "      <td>-0.192816</td>\n",
       "      <td>7.0</td>\n",
       "      <td>0.315861</td>\n",
       "      <td>15.0</td>\n",
       "      <td>-0.030373</td>\n",
       "      <td>0.0</td>\n",
       "      <td>8.0</td>\n",
       "      <td>4.0</td>\n",
       "      <td>2.0</td>\n",
       "      <td>0.0</td>\n",
       "      <td>-0.144804</td>\n",
       "      <td>-0.217127</td>\n",
       "      <td>-1.648120</td>\n",
       "      <td>39.0</td>\n",
       "      <td>0.0</td>\n",
       "    </tr>\n",
       "    <tr>\n",
       "      <th>2</th>\n",
       "      <td>1.484746</td>\n",
       "      <td>6.0</td>\n",
       "      <td>-0.225345</td>\n",
       "      <td>9.0</td>\n",
       "      <td>1.136512</td>\n",
       "      <td>2.0</td>\n",
       "      <td>4.0</td>\n",
       "      <td>0.0</td>\n",
       "      <td>4.0</td>\n",
       "      <td>1.0</td>\n",
       "      <td>-0.144804</td>\n",
       "      <td>-0.217127</td>\n",
       "      <td>-1.244612</td>\n",
       "      <td>39.0</td>\n",
       "      <td>1.0</td>\n",
       "    </tr>\n",
       "    <tr>\n",
       "      <th>3</th>\n",
       "      <td>1.484746</td>\n",
       "      <td>4.0</td>\n",
       "      <td>2.494276</td>\n",
       "      <td>15.0</td>\n",
       "      <td>-0.030373</td>\n",
       "      <td>2.0</td>\n",
       "      <td>10.0</td>\n",
       "      <td>0.0</td>\n",
       "      <td>4.0</td>\n",
       "      <td>1.0</td>\n",
       "      <td>-0.144804</td>\n",
       "      <td>-0.217127</td>\n",
       "      <td>-0.356894</td>\n",
       "      <td>39.0</td>\n",
       "      <td>2.0</td>\n",
       "    </tr>\n",
       "    <tr>\n",
       "      <th>4</th>\n",
       "      <td>-0.192816</td>\n",
       "      <td>4.0</td>\n",
       "      <td>-1.325788</td>\n",
       "      <td>9.0</td>\n",
       "      <td>1.136512</td>\n",
       "      <td>2.0</td>\n",
       "      <td>10.0</td>\n",
       "      <td>0.0</td>\n",
       "      <td>4.0</td>\n",
       "      <td>1.0</td>\n",
       "      <td>-0.144804</td>\n",
       "      <td>-0.217127</td>\n",
       "      <td>0.772930</td>\n",
       "      <td>39.0</td>\n",
       "      <td>3.0</td>\n",
       "    </tr>\n",
       "  </tbody>\n",
       "</table>\n",
       "</div>"
      ],
      "text/plain": [
       "        age  workclass    fnlwgt  education  education-num  marital-status  \\\n",
       "0 -0.338691        4.0 -0.639643       15.0      -0.030373             2.0   \n",
       "1 -0.192816        7.0  0.315861       15.0      -0.030373             0.0   \n",
       "2  1.484746        6.0 -0.225345        9.0       1.136512             2.0   \n",
       "3  1.484746        4.0  2.494276       15.0      -0.030373             2.0   \n",
       "4 -0.192816        4.0 -1.325788        9.0       1.136512             2.0   \n",
       "\n",
       "   occupation  relationship  race  sex  capital-gain  capital-loss  \\\n",
       "0         4.0           0.0   4.0  1.0     -0.144804     -0.217127   \n",
       "1         8.0           4.0   2.0  0.0     -0.144804     -0.217127   \n",
       "2         4.0           0.0   4.0  1.0     -0.144804     -0.217127   \n",
       "3        10.0           0.0   4.0  1.0     -0.144804     -0.217127   \n",
       "4        10.0           0.0   4.0  1.0     -0.144804     -0.217127   \n",
       "\n",
       "   hours-per-week  native-country  class  \n",
       "0       -0.034087            39.0    0.0  \n",
       "1       -1.648120            39.0    0.0  \n",
       "2       -1.244612            39.0    1.0  \n",
       "3       -0.356894            39.0    2.0  \n",
       "4        0.772930            39.0    3.0  "
      ]
     },
     "execution_count": 15,
     "metadata": {},
     "output_type": "execute_result"
    }
   ],
   "source": [
    "from prepare_data import uci_dataset_id_import, preprocess_data\n",
    "df = uci_dataset_id_import(2, silent_import=False)\n",
    "df = preprocess_data(df, 'class')[0]\n",
    "\n",
    "df_1 = df.sample(100, random_state=42).reset_index(drop=True)\n",
    "\n",
    "df_2 = df.sample(1000, random_state=43).reset_index(drop=True)\n",
    "df_1.head()"
   ]
  },
  {
   "cell_type": "code",
   "execution_count": 16,
   "id": "7735d607",
   "metadata": {},
   "outputs": [
    {
     "name": "stdout",
     "output_type": "stream",
     "text": [
      "         mean       std  min      25%    median       75%       max\n",
      "REX  0.849581  0.976807  0.0  0.76591  0.806574  0.896608  1.177645\n"
     ]
    }
   ],
   "source": [
    "from KNN_adapters import REX_KNN\n",
    "res21 = distance_to_closest_record(df_2, df_1, REX_KNN)\n",
    "res11 = distance_to_closest_record(df_1, df_1, REX_KNN)\n",
    "\n",
    "print(res21/res11)"
   ]
  },
  {
   "cell_type": "code",
   "execution_count": 17,
   "id": "d6302eb4",
   "metadata": {},
   "outputs": [
    {
     "name": "stdout",
     "output_type": "stream",
     "text": [
      "           mean       std  min       25%    median      75%       max\n",
      "Gower  0.789561  0.859841  0.0  0.736899  0.804781  0.80165  1.038999\n"
     ]
    }
   ],
   "source": [
    "from KNN_adapters import GowerKNN\n",
    "res21 = distance_to_closest_record(df_2, df_1, GowerKNN)\n",
    "res11 = distance_to_closest_record(df_1, df_1, GowerKNN)\n",
    "print(res21/res11)"
   ]
  },
  {
   "cell_type": "code",
   "execution_count": 20,
   "id": "e272619e",
   "metadata": {},
   "outputs": [
    {
     "name": "stdout",
     "output_type": "stream",
     "text": [
      "        mean       std  min       25%   median       75%       max\n",
      "L2  1.059166  1.338597  0.0  0.952425  0.99763  1.028331  2.025563\n"
     ]
    }
   ],
   "source": [
    "from KNN_adapters import EuclideanKNN\n",
    "res21 = distance_to_closest_record(df_2, df_1, EuclideanKNN)\n",
    "res11 = distance_to_closest_record(df_1, df_1, EuclideanKNN)\n",
    "print(res21/res11)"
   ]
  },
  {
   "cell_type": "markdown",
   "id": "e66230fe",
   "metadata": {},
   "source": [
    "## 2.1 Data Generation"
   ]
  },
  {
   "cell_type": "code",
   "execution_count": 2,
   "id": "a512cfc7",
   "metadata": {},
   "outputs": [
    {
     "ename": "PermissionError",
     "evalue": "[WinError 5] Access is denied: 'synthesis_info_synthpop_temp_0'",
     "output_type": "error",
     "traceback": [
      "\u001b[1;31m---------------------------------------------------------------------------\u001b[0m",
      "\u001b[1;31mPermissionError\u001b[0m                           Traceback (most recent call last)",
      "Cell \u001b[1;32mIn[2], line 5\u001b[0m\n\u001b[0;32m      2\u001b[0m \u001b[38;5;28;01mfrom\u001b[39;00m \u001b[38;5;21;01msynthpop_adapter\u001b[39;00m \u001b[38;5;28;01mimport\u001b[39;00m rSynthpop\n\u001b[0;32m      4\u001b[0m df \u001b[38;5;241m=\u001b[39m dataset\u001b[38;5;241m.\u001b[39mload_breast_cancer()\n\u001b[1;32m----> 5\u001b[0m df_syn \u001b[38;5;241m=\u001b[39m \u001b[43mrSynthpop\u001b[49m\u001b[43m(\u001b[49m\u001b[43mdf\u001b[49m\u001b[43m)\u001b[49m\n\u001b[0;32m      6\u001b[0m df_syn()\n",
      "File \u001b[1;32mc:\\Users\\lautrup\\OneDrive - Syddansk Universitet\\Codebooks\\lautrup-distance\\synthpop_adapter.py:76\u001b[0m, in \u001b[0;36mrSynthpop\u001b[1;34m(train_data, num_to_generate, seed, id, **kwargs)\u001b[0m\n\u001b[0;32m     70\u001b[0m df_syn\u001b[38;5;241m.\u001b[39mcolumns \u001b[38;5;241m=\u001b[39m [col \u001b[38;5;28;01mfor\u001b[39;00m col \u001b[38;5;129;01min\u001b[39;00m df_train\u001b[38;5;241m.\u001b[39mcolumns]\n\u001b[0;32m     72\u001b[0m _cleanup_files([\u001b[38;5;124m'\u001b[39m\u001b[38;5;124msynthesis_info_\u001b[39m\u001b[38;5;124m'\u001b[39m \u001b[38;5;241m+\u001b[39m train_data_name \u001b[38;5;241m+\u001b[39m \u001b[38;5;124m'\u001b[39m\u001b[38;5;124m_synthpop.txt\u001b[39m\u001b[38;5;124m'\u001b[39m, \n\u001b[0;32m     73\u001b[0m                 train_data_name \u001b[38;5;241m+\u001b[39m \u001b[38;5;124m'\u001b[39m\u001b[38;5;124m_synthpop.csv\u001b[39m\u001b[38;5;124m'\u001b[39m, \n\u001b[0;32m     74\u001b[0m                 \u001b[38;5;124mf\u001b[39m\u001b[38;5;124m'\u001b[39m\u001b[38;5;124msynthpop_temp_\u001b[39m\u001b[38;5;132;01m{\u001b[39;00m\u001b[38;5;28mid\u001b[39m\u001b[38;5;132;01m}\u001b[39;00m\u001b[38;5;124m.csv\u001b[39m\u001b[38;5;124m'\u001b[39m])\n\u001b[1;32m---> 76\u001b[0m \u001b[43mos\u001b[49m\u001b[38;5;241;43m.\u001b[39;49m\u001b[43mremovedirs\u001b[49m\u001b[43m(\u001b[49m\u001b[43minfo_dir\u001b[49m\u001b[43m)\u001b[49m\n\u001b[0;32m     77\u001b[0m \u001b[38;5;28;01mreturn\u001b[39;00m df_syn\n",
      "File \u001b[1;32mc:\\Program Files\\Python310\\lib\\os.py:243\u001b[0m, in \u001b[0;36mremovedirs\u001b[1;34m(name)\u001b[0m\n\u001b[0;32m    232\u001b[0m \u001b[38;5;28;01mdef\u001b[39;00m \u001b[38;5;21mremovedirs\u001b[39m(name):\n\u001b[0;32m    233\u001b[0m \u001b[38;5;250m    \u001b[39m\u001b[38;5;124;03m\"\"\"removedirs(name)\u001b[39;00m\n\u001b[0;32m    234\u001b[0m \n\u001b[0;32m    235\u001b[0m \u001b[38;5;124;03m    Super-rmdir; remove a leaf directory and all empty intermediate\u001b[39;00m\n\u001b[1;32m   (...)\u001b[0m\n\u001b[0;32m    241\u001b[0m \n\u001b[0;32m    242\u001b[0m \u001b[38;5;124;03m    \"\"\"\u001b[39;00m\n\u001b[1;32m--> 243\u001b[0m     \u001b[43mrmdir\u001b[49m\u001b[43m(\u001b[49m\u001b[43mname\u001b[49m\u001b[43m)\u001b[49m\n\u001b[0;32m    244\u001b[0m     head, tail \u001b[38;5;241m=\u001b[39m path\u001b[38;5;241m.\u001b[39msplit(name)\n\u001b[0;32m    245\u001b[0m     \u001b[38;5;28;01mif\u001b[39;00m \u001b[38;5;129;01mnot\u001b[39;00m tail:\n",
      "\u001b[1;31mPermissionError\u001b[0m: [WinError 5] Access is denied: 'synthesis_info_synthpop_temp_0'"
     ]
    }
   ],
   "source": [
    "import uci_dataset as dataset\n",
    "from synthpop_adapter import rSynthpop\n",
    "\n",
    "df = dataset.load_breast_cancer()\n",
    "df_syn = rSynthpop(df)\n",
    "df_syn()"
   ]
  }
 ],
 "metadata": {
  "kernelspec": {
   "display_name": "Python 3",
   "language": "python",
   "name": "python3"
  },
  "language_info": {
   "codemirror_mode": {
    "name": "ipython",
    "version": 3
   },
   "file_extension": ".py",
   "mimetype": "text/x-python",
   "name": "python",
   "nbconvert_exporter": "python",
   "pygments_lexer": "ipython3",
   "version": "3.10.11"
  }
 },
 "nbformat": 4,
 "nbformat_minor": 5
}
