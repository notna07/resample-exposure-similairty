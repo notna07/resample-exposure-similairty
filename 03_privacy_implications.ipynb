{
 "cells": [
  {
   "cell_type": "markdown",
   "id": "ee3f5251",
   "metadata": {},
   "source": [
    "# 3 Synthetic Data Privacy\n",
    "\n",
    "The resample exposure risk index was developed to measure the risk of re-identification of individuals in a dataset. Variables are weigthed in the similarity calculation, by the risk of rerolling the query variable into the target. Frequent variables are more vunerable to re-identification. "
   ]
  },
  {
   "cell_type": "code",
   "execution_count": 1,
   "id": "585c92e2",
   "metadata": {},
   "outputs": [],
   "source": [
    "import pandas as pd\n",
    "\n",
    "from pandas import DataFrame\n",
    "from KNN_adapters import KNNAdapter\n",
    "\n",
    "### Metrics we use"
   ]
  },
  {
   "cell_type": "code",
   "execution_count": 15,
   "id": "608fdd40",
   "metadata": {},
   "outputs": [
    {
     "name": "stdout",
     "output_type": "stream",
     "text": [
      "Dataset Name: Adult\n"
     ]
    },
    {
     "data": {
      "text/html": [
       "<div>\n",
       "<style scoped>\n",
       "    .dataframe tbody tr th:only-of-type {\n",
       "        vertical-align: middle;\n",
       "    }\n",
       "\n",
       "    .dataframe tbody tr th {\n",
       "        vertical-align: top;\n",
       "    }\n",
       "\n",
       "    .dataframe thead th {\n",
       "        text-align: right;\n",
       "    }\n",
       "</style>\n",
       "<table border=\"1\" class=\"dataframe\">\n",
       "  <thead>\n",
       "    <tr style=\"text-align: right;\">\n",
       "      <th></th>\n",
       "      <th>age</th>\n",
       "      <th>workclass</th>\n",
       "      <th>fnlwgt</th>\n",
       "      <th>education</th>\n",
       "      <th>education-num</th>\n",
       "      <th>marital-status</th>\n",
       "      <th>occupation</th>\n",
       "      <th>relationship</th>\n",
       "      <th>race</th>\n",
       "      <th>sex</th>\n",
       "      <th>capital-gain</th>\n",
       "      <th>capital-loss</th>\n",
       "      <th>hours-per-week</th>\n",
       "      <th>native-country</th>\n",
       "      <th>class</th>\n",
       "    </tr>\n",
       "  </thead>\n",
       "  <tbody>\n",
       "    <tr>\n",
       "      <th>0</th>\n",
       "      <td>-0.338691</td>\n",
       "      <td>4.0</td>\n",
       "      <td>-0.639643</td>\n",
       "      <td>15.0</td>\n",
       "      <td>-0.030373</td>\n",
       "      <td>2.0</td>\n",
       "      <td>4.0</td>\n",
       "      <td>0.0</td>\n",
       "      <td>4.0</td>\n",
       "      <td>1.0</td>\n",
       "      <td>-0.144804</td>\n",
       "      <td>-0.217127</td>\n",
       "      <td>-0.034087</td>\n",
       "      <td>39.0</td>\n",
       "      <td>0.0</td>\n",
       "    </tr>\n",
       "    <tr>\n",
       "      <th>1</th>\n",
       "      <td>-0.192816</td>\n",
       "      <td>7.0</td>\n",
       "      <td>0.315861</td>\n",
       "      <td>15.0</td>\n",
       "      <td>-0.030373</td>\n",
       "      <td>0.0</td>\n",
       "      <td>8.0</td>\n",
       "      <td>4.0</td>\n",
       "      <td>2.0</td>\n",
       "      <td>0.0</td>\n",
       "      <td>-0.144804</td>\n",
       "      <td>-0.217127</td>\n",
       "      <td>-1.648120</td>\n",
       "      <td>39.0</td>\n",
       "      <td>0.0</td>\n",
       "    </tr>\n",
       "    <tr>\n",
       "      <th>2</th>\n",
       "      <td>1.484746</td>\n",
       "      <td>6.0</td>\n",
       "      <td>-0.225345</td>\n",
       "      <td>9.0</td>\n",
       "      <td>1.136512</td>\n",
       "      <td>2.0</td>\n",
       "      <td>4.0</td>\n",
       "      <td>0.0</td>\n",
       "      <td>4.0</td>\n",
       "      <td>1.0</td>\n",
       "      <td>-0.144804</td>\n",
       "      <td>-0.217127</td>\n",
       "      <td>-1.244612</td>\n",
       "      <td>39.0</td>\n",
       "      <td>1.0</td>\n",
       "    </tr>\n",
       "    <tr>\n",
       "      <th>3</th>\n",
       "      <td>1.484746</td>\n",
       "      <td>4.0</td>\n",
       "      <td>2.494276</td>\n",
       "      <td>15.0</td>\n",
       "      <td>-0.030373</td>\n",
       "      <td>2.0</td>\n",
       "      <td>10.0</td>\n",
       "      <td>0.0</td>\n",
       "      <td>4.0</td>\n",
       "      <td>1.0</td>\n",
       "      <td>-0.144804</td>\n",
       "      <td>-0.217127</td>\n",
       "      <td>-0.356894</td>\n",
       "      <td>39.0</td>\n",
       "      <td>2.0</td>\n",
       "    </tr>\n",
       "    <tr>\n",
       "      <th>4</th>\n",
       "      <td>-0.192816</td>\n",
       "      <td>4.0</td>\n",
       "      <td>-1.325788</td>\n",
       "      <td>9.0</td>\n",
       "      <td>1.136512</td>\n",
       "      <td>2.0</td>\n",
       "      <td>10.0</td>\n",
       "      <td>0.0</td>\n",
       "      <td>4.0</td>\n",
       "      <td>1.0</td>\n",
       "      <td>-0.144804</td>\n",
       "      <td>-0.217127</td>\n",
       "      <td>0.772930</td>\n",
       "      <td>39.0</td>\n",
       "      <td>3.0</td>\n",
       "    </tr>\n",
       "  </tbody>\n",
       "</table>\n",
       "</div>"
      ],
      "text/plain": [
       "        age  workclass    fnlwgt  education  education-num  marital-status  \\\n",
       "0 -0.338691        4.0 -0.639643       15.0      -0.030373             2.0   \n",
       "1 -0.192816        7.0  0.315861       15.0      -0.030373             0.0   \n",
       "2  1.484746        6.0 -0.225345        9.0       1.136512             2.0   \n",
       "3  1.484746        4.0  2.494276       15.0      -0.030373             2.0   \n",
       "4 -0.192816        4.0 -1.325788        9.0       1.136512             2.0   \n",
       "\n",
       "   occupation  relationship  race  sex  capital-gain  capital-loss  \\\n",
       "0         4.0           0.0   4.0  1.0     -0.144804     -0.217127   \n",
       "1         8.0           4.0   2.0  0.0     -0.144804     -0.217127   \n",
       "2         4.0           0.0   4.0  1.0     -0.144804     -0.217127   \n",
       "3        10.0           0.0   4.0  1.0     -0.144804     -0.217127   \n",
       "4        10.0           0.0   4.0  1.0     -0.144804     -0.217127   \n",
       "\n",
       "   hours-per-week  native-country  class  \n",
       "0       -0.034087            39.0    0.0  \n",
       "1       -1.648120            39.0    0.0  \n",
       "2       -1.244612            39.0    1.0  \n",
       "3       -0.356894            39.0    2.0  \n",
       "4        0.772930            39.0    3.0  "
      ]
     },
     "execution_count": 15,
     "metadata": {},
     "output_type": "execute_result"
    }
   ],
   "source": [
    "from prepare_data import uci_dataset_id_import, preprocess_data\n",
    "df = uci_dataset_id_import(2, silent_import=False)\n",
    "df = preprocess_data(df, 'class')[0]\n",
    "\n",
    "df_1 = df.sample(100, random_state=42).reset_index(drop=True)\n",
    "\n",
    "df_2 = df.sample(1000, random_state=43).reset_index(drop=True)\n",
    "df_1.head()"
   ]
  },
  {
   "cell_type": "code",
   "execution_count": 16,
   "id": "7735d607",
   "metadata": {},
   "outputs": [
    {
     "name": "stdout",
     "output_type": "stream",
     "text": [
      "         mean       std  min      25%    median       75%       max\n",
      "REX  0.849581  0.976807  0.0  0.76591  0.806574  0.896608  1.177645\n"
     ]
    }
   ],
   "source": [
    "from KNN_adapters import REX_KNN\n",
    "res21 = distance_to_closest_record(df_2, df_1, REX_KNN)\n",
    "res11 = distance_to_closest_record(df_1, df_1, REX_KNN)\n",
    "\n",
    "print(res21/res11)"
   ]
  },
  {
   "cell_type": "code",
   "execution_count": 17,
   "id": "d6302eb4",
   "metadata": {},
   "outputs": [
    {
     "name": "stdout",
     "output_type": "stream",
     "text": [
      "           mean       std  min       25%    median      75%       max\n",
      "Gower  0.789561  0.859841  0.0  0.736899  0.804781  0.80165  1.038999\n"
     ]
    }
   ],
   "source": [
    "from KNN_adapters import GowerKNN\n",
    "res21 = distance_to_closest_record(df_2, df_1, GowerKNN)\n",
    "res11 = distance_to_closest_record(df_1, df_1, GowerKNN)\n",
    "print(res21/res11)"
   ]
  },
  {
   "cell_type": "code",
   "execution_count": 20,
   "id": "e272619e",
   "metadata": {},
   "outputs": [
    {
     "name": "stdout",
     "output_type": "stream",
     "text": [
      "        mean       std  min       25%   median       75%       max\n",
      "L2  1.059166  1.338597  0.0  0.952425  0.99763  1.028331  2.025563\n"
     ]
    }
   ],
   "source": [
    "from KNN_adapters import EuclideanKNN\n",
    "res21 = distance_to_closest_record(df_2, df_1, EuclideanKNN)\n",
    "res11 = distance_to_closest_record(df_1, df_1, EuclideanKNN)\n",
    "print(res21/res11)"
   ]
  },
  {
   "cell_type": "markdown",
   "id": "e66230fe",
   "metadata": {},
   "source": [
    "## 2.1 Data Generation"
   ]
  },
  {
   "cell_type": "code",
   "execution_count": 1,
   "id": "a512cfc7",
   "metadata": {},
   "outputs": [
    {
     "data": {
      "text/html": [
       "<div>\n",
       "<style scoped>\n",
       "    .dataframe tbody tr th:only-of-type {\n",
       "        vertical-align: middle;\n",
       "    }\n",
       "\n",
       "    .dataframe tbody tr th {\n",
       "        vertical-align: top;\n",
       "    }\n",
       "\n",
       "    .dataframe thead th {\n",
       "        text-align: right;\n",
       "    }\n",
       "</style>\n",
       "<table border=\"1\" class=\"dataframe\">\n",
       "  <thead>\n",
       "    <tr style=\"text-align: right;\">\n",
       "      <th></th>\n",
       "      <th>Class</th>\n",
       "      <th>age</th>\n",
       "      <th>menopause</th>\n",
       "      <th>tumor-size</th>\n",
       "      <th>inv-nodes</th>\n",
       "      <th>node-caps</th>\n",
       "      <th>deg-malig</th>\n",
       "      <th>breast</th>\n",
       "      <th>breast-quad</th>\n",
       "      <th>irradiat</th>\n",
       "    </tr>\n",
       "  </thead>\n",
       "  <tbody>\n",
       "    <tr>\n",
       "      <th>0</th>\n",
       "      <td>recurrence-events</td>\n",
       "      <td>50-59</td>\n",
       "      <td>ge40</td>\n",
       "      <td>30-34</td>\n",
       "      <td>3-5</td>\n",
       "      <td>no</td>\n",
       "      <td>2</td>\n",
       "      <td>right</td>\n",
       "      <td>left_up</td>\n",
       "      <td>no</td>\n",
       "    </tr>\n",
       "    <tr>\n",
       "      <th>1</th>\n",
       "      <td>recurrence-events</td>\n",
       "      <td>50-59</td>\n",
       "      <td>ge40</td>\n",
       "      <td>30-34</td>\n",
       "      <td>0-2</td>\n",
       "      <td>no</td>\n",
       "      <td>3</td>\n",
       "      <td>right</td>\n",
       "      <td>right_up</td>\n",
       "      <td>no</td>\n",
       "    </tr>\n",
       "    <tr>\n",
       "      <th>2</th>\n",
       "      <td>no-recurrence-events</td>\n",
       "      <td>50-59</td>\n",
       "      <td>ge40</td>\n",
       "      <td>30-34</td>\n",
       "      <td>0-2</td>\n",
       "      <td>no</td>\n",
       "      <td>3</td>\n",
       "      <td>right</td>\n",
       "      <td>left_up</td>\n",
       "      <td>no</td>\n",
       "    </tr>\n",
       "    <tr>\n",
       "      <th>3</th>\n",
       "      <td>no-recurrence-events</td>\n",
       "      <td>30-39</td>\n",
       "      <td>premeno</td>\n",
       "      <td>25-29</td>\n",
       "      <td>0-2</td>\n",
       "      <td>no</td>\n",
       "      <td>2</td>\n",
       "      <td>right</td>\n",
       "      <td>left_low</td>\n",
       "      <td>no</td>\n",
       "    </tr>\n",
       "    <tr>\n",
       "      <th>4</th>\n",
       "      <td>no-recurrence-events</td>\n",
       "      <td>50-59</td>\n",
       "      <td>ge40</td>\n",
       "      <td>40-44</td>\n",
       "      <td>0-2</td>\n",
       "      <td>no</td>\n",
       "      <td>3</td>\n",
       "      <td>left</td>\n",
       "      <td>left_up</td>\n",
       "      <td>no</td>\n",
       "    </tr>\n",
       "  </tbody>\n",
       "</table>\n",
       "</div>"
      ],
      "text/plain": [
       "                  Class    age menopause tumor-size inv-nodes node-caps  \\\n",
       "0     recurrence-events  50-59      ge40      30-34       3-5        no   \n",
       "1     recurrence-events  50-59      ge40      30-34       0-2        no   \n",
       "2  no-recurrence-events  50-59      ge40      30-34       0-2        no   \n",
       "3  no-recurrence-events  30-39   premeno      25-29       0-2        no   \n",
       "4  no-recurrence-events  50-59      ge40      40-44       0-2        no   \n",
       "\n",
       "   deg-malig breast breast-quad irradiat  \n",
       "0          2  right     left_up       no  \n",
       "1          3  right    right_up       no  \n",
       "2          3  right     left_up       no  \n",
       "3          2  right    left_low       no  \n",
       "4          3   left     left_up       no  "
      ]
     },
     "execution_count": 1,
     "metadata": {},
     "output_type": "execute_result"
    }
   ],
   "source": [
    "import uci_dataset as dataset\n",
    "from synthpop_adapter import rSynthpop\n",
    "\n",
    "df = dataset.load_breast_cancer()\n",
    "df_syn = rSynthpop(df)\n",
    "df_syn.head()"
   ]
  },
  {
   "cell_type": "code",
   "execution_count": null,
   "id": "59aa70bc",
   "metadata": {},
   "outputs": [
    {
     "name": "stdout",
     "output_type": "stream",
     "text": [
      "(277, 10)\n",
      "(286, 10)\n",
      "         mean       std  min       25%    median       75%       max\n",
      "DCR  0.803357  1.088276  NaN  0.480263  0.777053  0.870164  1.032808\n"
     ]
    }
   ],
   "source": [
    "from KNN_adapters import REX_KNN\n",
    "from privacy_metrics import distance_to_closest_record\n",
    "\n",
    "res21 = distance_to_closest_record(df_syn, df, REX_KNN)\n",
    "res11 = distance_to_closest_record(df, df, REX_KNN)\n",
    "\n",
    "print(res21/res11)"
   ]
  },
  {
   "cell_type": "code",
   "execution_count": 5,
   "id": "948342fe",
   "metadata": {},
   "outputs": [
    {
     "name": "stdout",
     "output_type": "stream",
     "text": [
      "         mean       std  min  25%  median   75%       max\n",
      "DCR  0.854036  1.067012  NaN  0.5     1.0  0.75  0.777778\n"
     ]
    }
   ],
   "source": [
    "from KNN_adapters import GowerKNN\n",
    "\n",
    "res21 = distance_to_closest_record(df_syn, df, GowerKNN)\n",
    "res11 = distance_to_closest_record(df, df, GowerKNN)\n",
    "print(res21/res11)"
   ]
  }
 ],
 "metadata": {
  "kernelspec": {
   "display_name": "Python 3",
   "language": "python",
   "name": "python3"
  },
  "language_info": {
   "codemirror_mode": {
    "name": "ipython",
    "version": 3
   },
   "file_extension": ".py",
   "mimetype": "text/x-python",
   "name": "python",
   "nbconvert_exporter": "python",
   "pygments_lexer": "ipython3",
   "version": "3.10.11"
  }
 },
 "nbformat": 4,
 "nbformat_minor": 5
}
